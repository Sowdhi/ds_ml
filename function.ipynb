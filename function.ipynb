{
 "cells": [
  {
   "cell_type": "markdown",
   "id": "71a1eff1",
   "metadata": {},
   "source": [
    "# simple if"
   ]
  },
  {
   "cell_type": "code",
   "execution_count": 12,
   "id": "d41da9cb",
   "metadata": {},
   "outputs": [
    {
     "name": "stdout",
     "output_type": "stream",
     "text": [
      "entre the n value0\n",
      " n is zero\n"
     ]
    }
   ],
   "source": [
    "n=int(input(\"entre the n value\"))\n",
    "if (n==0):\n",
    "    print(\" n is zero\")"
   ]
  },
  {
   "cell_type": "markdown",
   "id": "cd599be0",
   "metadata": {},
   "source": [
    "# if-else"
   ]
  },
  {
   "cell_type": "code",
   "execution_count": 17,
   "id": "3952dacb",
   "metadata": {},
   "outputs": [
    {
     "name": "stdout",
     "output_type": "stream",
     "text": [
      "enter the a value12\n",
      "enter the b value56\n",
      "b is bigger\n",
      "end\n"
     ]
    }
   ],
   "source": [
    "a=int(input(\"enter the a value\"))\n",
    "b=int(input(\"enter the b value\"))\n",
    "if (a>b):\n",
    "    print(\"a is bigger\")\n",
    "else:\n",
    "    print(\"b is bigger\")\n",
    "print(\"end\")    "
   ]
  },
  {
   "cell_type": "markdown",
   "id": "a785a20b",
   "metadata": {},
   "source": [
    "# nested if"
   ]
  },
  {
   "cell_type": "code",
   "execution_count": 19,
   "id": "ab8a96f9",
   "metadata": {},
   "outputs": [
    {
     "name": "stdout",
     "output_type": "stream",
     "text": [
      "enter the a value1\n",
      "enter the b value1\n",
      "a is equals to b\n"
     ]
    }
   ],
   "source": [
    "a=int(input(\"enter the a value\"))\n",
    "b=int(input(\"enter the b value\"))\n",
    "if (a!=b):\n",
    "    if (a<b):\n",
    "        print(\"a is smaller then b\")\n",
    "    else:\n",
    "        print(\"b is smaller than a\")\n",
    "else:\n",
    "    print(\"a is equals to b\")"
   ]
  },
  {
   "cell_type": "markdown",
   "id": "21c9fadf",
   "metadata": {},
   "source": [
    "# if-elis-else"
   ]
  },
  {
   "cell_type": "code",
   "execution_count": 23,
   "id": "2234b752",
   "metadata": {},
   "outputs": [
    {
     "name": "stdout",
     "output_type": "stream",
     "text": [
      "enter the a value1\n",
      "enter the b value1\n",
      "a smaller than b\n",
      "a equals to b\n"
     ]
    }
   ],
   "source": [
    "a=int(input(\"enter the a value\"))\n",
    "b=int(input(\"enter the b value\"))\n",
    "if (a!=b):\n",
    "    print(\"a not equal to b\")\n",
    "elif (a>b):\n",
    "    print(\" a greater than b\")\n",
    "else:\n",
    "    print(\"a smaller than b\")\n",
    "print(\"a equals to b\")"
   ]
  },
  {
   "cell_type": "markdown",
   "id": "2d4802bf",
   "metadata": {},
   "source": [
    "# itirative statements"
   ]
  },
  {
   "cell_type": "code",
   "execution_count": null,
   "id": "89ec18d1",
   "metadata": {},
   "outputs": [],
   "source": [
    "n=int(input(\"enter n value\"))\n",
    "i=1\n",
    "while (i<n):\n",
    "    print(i)\n",
    "    i+=1\n",
    "print(\"end\")"
   ]
  },
  {
   "cell_type": "code",
   "execution_count": null,
   "id": "bc993a03",
   "metadata": {},
   "outputs": [],
   "source": [
    "n=int(input(\"enter n value\"))\n",
    "i=1\n",
    "while (i<n):\n",
    "    print(i)\n",
    "    i+=1\n",
    "print(\"end\")"
   ]
  },
  {
   "cell_type": "code",
   "execution_count": null,
   "id": "6687acc2",
   "metadata": {},
   "outputs": [],
   "source": []
  },
  {
   "cell_type": "code",
   "execution_count": null,
   "id": "f417e9d9",
   "metadata": {},
   "outputs": [],
   "source": []
  },
  {
   "cell_type": "code",
   "execution_count": null,
   "id": "8fb4627f",
   "metadata": {},
   "outputs": [],
   "source": []
  },
  {
   "cell_type": "code",
   "execution_count": null,
   "id": "75b5d7d3",
   "metadata": {},
   "outputs": [],
   "source": []
  },
  {
   "cell_type": "code",
   "execution_count": 3,
   "id": "ece3d2d0",
   "metadata": {},
   "outputs": [],
   "source": [
    "def add(a,b):\n",
    "    sum=a+b\n",
    "    return sum"
   ]
  },
  {
   "cell_type": "code",
   "execution_count": 5,
   "id": "43c03578",
   "metadata": {},
   "outputs": [
    {
     "name": "stdout",
     "output_type": "stream",
     "text": [
      "enter the a value12\n",
      "enter the b value13\n"
     ]
    },
    {
     "data": {
      "text/plain": [
       "25"
      ]
     },
     "execution_count": 5,
     "metadata": {},
     "output_type": "execute_result"
    }
   ],
   "source": [
    "a=int(input(\"enter the a value\"))\n",
    "b=int(input(\"enter the b value\"))\n",
    "add(a,b)"
   ]
  },
  {
   "cell_type": "code",
   "execution_count": null,
   "id": "95a96535",
   "metadata": {},
   "outputs": [],
   "source": []
  }
 ],
 "metadata": {
  "kernelspec": {
   "display_name": "Python 3 (ipykernel)",
   "language": "python",
   "name": "python3"
  },
  "language_info": {
   "codemirror_mode": {
    "name": "ipython",
    "version": 3
   },
   "file_extension": ".py",
   "mimetype": "text/x-python",
   "name": "python",
   "nbconvert_exporter": "python",
   "pygments_lexer": "ipython3",
   "version": "3.9.12"
  }
 },
 "nbformat": 4,
 "nbformat_minor": 5
}
