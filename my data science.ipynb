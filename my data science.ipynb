{
 "cells": [
  {
   "cell_type": "markdown",
   "id": "c8201522",
   "metadata": {},
   "source": [
    "# various data types in python\n",
    "## variables\n",
    "## variabl assignment\n",
    "## print formatting"
   ]
  },
  {
   "cell_type": "markdown",
   "id": "63e87c9d",
   "metadata": {},
   "source": []
  },
  {
   "cell_type": "code",
   "execution_count": 3,
   "id": "35bdeeaf",
   "metadata": {},
   "outputs": [
    {
     "name": "stdout",
     "output_type": "stream",
     "text": [
      "hello\n"
     ]
    }
   ],
   "source": [
    "print(\"hello\")"
   ]
  },
  {
   "cell_type": "code",
   "execution_count": 4,
   "id": "994cf03d",
   "metadata": {},
   "outputs": [
    {
     "ename": "NameError",
     "evalue": "name 'my_str' is not defined",
     "output_type": "error",
     "traceback": [
      "\u001b[1;31m---------------------------------------------------------------------------\u001b[0m",
      "\u001b[1;31mNameError\u001b[0m                                 Traceback (most recent call last)",
      "Input \u001b[1;32mIn [4]\u001b[0m, in \u001b[0;36m<cell line: 2>\u001b[1;34m()\u001b[0m\n\u001b[0;32m      1\u001b[0m \u001b[38;5;28mbool\u001b[39m()\n\u001b[1;32m----> 2\u001b[0m \u001b[38;5;28mprint\u001b[39m(\u001b[43mmy_str\u001b[49m\u001b[38;5;241m.\u001b[39misalnum,isalpha,istitle,isupper,islower,ispsace,endswith(\u001b[38;5;124m\"\u001b[39m\u001b[38;5;124m\"\u001b[39m),startswith(\u001b[38;5;124m\"\u001b[39m\u001b[38;5;124m\"\u001b[39m))\n",
      "\u001b[1;31mNameError\u001b[0m: name 'my_str' is not defined"
     ]
    }
   ],
   "source": [
    "bool()\n",
    "print(my_str.isalnum,isalpha,istitle,isupper,islower,ispsace,endswith(\"\"),startswith(\"\"))"
   ]
  },
  {
   "cell_type": "code",
   "execution_count": 5,
   "id": "f7a6c044",
   "metadata": {},
   "outputs": [
    {
     "ename": "SyntaxError",
     "evalue": "invalid syntax (143858248.py, line 2)",
     "output_type": "error",
     "traceback": [
      "\u001b[1;36m  Input \u001b[1;32mIn [5]\u001b[1;36m\u001b[0m\n\u001b[1;33m    Alist is a data tructure is python that is a mutuable or changeable, order\u001b[0m\n\u001b[1;37m               ^\u001b[0m\n\u001b[1;31mSyntaxError\u001b[0m\u001b[1;31m:\u001b[0m invalid syntax\n"
     ]
    }
   ],
   "source": [
    "#List \n",
    "Alist is a data tructure is python that is a mutuable or changeable, order\n"
   ]
  },
  {
   "cell_type": "markdown",
   "id": "77ea2103",
   "metadata": {},
   "source": [
    "# List"
   ]
  },
  {
   "cell_type": "markdown",
   "id": "f21d6388",
   "metadata": {},
   "source": [
    "## A list is a data structure in python that is a mutuable or changable, ordered sequence of elements. Eachelement or value that is inside of a list is called an item. just as strings are defined as charecters between quotes, lists are defined by having values between square brackets []"
   ]
  },
  {
   "cell_type": "code",
   "execution_count": null,
   "id": "01911e7f",
   "metadata": {},
   "outputs": [],
   "source": [
    "li=[1,2,3,4,5,\"a\", \"sowdhi\"]\n",
    "a=list[]\n",
    "type(a)\n",
    "a.append()\n",
    "list[1,2,3,4---- -1,-2]\n",
    "a[ : ]\n",
    "a.insert(2,\"sowdhi\")\n",
    "a.extend([8,9])\n",
    "a=[1,2,3,4,5]\n",
    "sum(a)\n",
    "a.pop()\n",
    "a.count()\n",
    "len(a)\n",
    "a.index(3)\n",
    "min(a)\n",
    "max()\n"
   ]
  },
  {
   "cell_type": "code",
   "execution_count": 4,
   "id": "87b11895",
   "metadata": {},
   "outputs": [
    {
     "data": {
      "text/plain": [
       "list"
      ]
     },
     "execution_count": 4,
     "metadata": {},
     "output_type": "execute_result"
    }
   ],
   "source": [
    "A=[1,2,3,4,5]\n",
    "type(A)"
   ]
  },
  {
   "cell_type": "code",
   "execution_count": 10,
   "id": "42879577",
   "metadata": {},
   "outputs": [
    {
     "data": {
      "text/plain": [
       "[1, 2, 3, 4, 5, [8, 9], [8, 9], [8, 9], [8, 9], [8, 9]]"
      ]
     },
     "execution_count": 10,
     "metadata": {},
     "output_type": "execute_result"
    }
   ],
   "source": [
    "A.append([8,9])\n",
    "A"
   ]
  },
  {
   "cell_type": "code",
   "execution_count": 11,
   "id": "836870a1",
   "metadata": {},
   "outputs": [
    {
     "data": {
      "text/plain": [
       "[1, 2, 3, 4, 5, [8, 9], [8, 9], [8, 9], [8, 9], [8, 9]]"
      ]
     },
     "execution_count": 11,
     "metadata": {},
     "output_type": "execute_result"
    }
   ],
   "source": [
    "A[ : ]"
   ]
  },
  {
   "cell_type": "code",
   "execution_count": 13,
   "id": "716a5828",
   "metadata": {},
   "outputs": [],
   "source": [
    "Sowdhi=[1,3,5,6,7,\"a\", \"sridevi\"]"
   ]
  },
  {
   "cell_type": "code",
   "execution_count": 16,
   "id": "1fd85dd6",
   "metadata": {},
   "outputs": [
    {
     "data": {
      "text/plain": [
       "[1, 3, 5, 6, 7, 'a', 'sridevi']"
      ]
     },
     "execution_count": 16,
     "metadata": {},
     "output_type": "execute_result"
    }
   ],
   "source": [
    "Sowdhi[ : ]"
   ]
  },
  {
   "cell_type": "code",
   "execution_count": 18,
   "id": "3b4a0fd2",
   "metadata": {},
   "outputs": [],
   "source": [
    "A.insert(2,45)"
   ]
  },
  {
   "cell_type": "code",
   "execution_count": 19,
   "id": "490febde",
   "metadata": {},
   "outputs": [
    {
     "data": {
      "text/plain": [
       "[1, 2, 45, 3, 4, 5, [8, 9], [8, 9], [8, 9], [8, 9], [8, 9]]"
      ]
     },
     "execution_count": 19,
     "metadata": {},
     "output_type": "execute_result"
    }
   ],
   "source": [
    "A"
   ]
  },
  {
   "cell_type": "code",
   "execution_count": 20,
   "id": "a8539c11",
   "metadata": {},
   "outputs": [],
   "source": [
    "A.extend([10,11])"
   ]
  },
  {
   "cell_type": "code",
   "execution_count": 21,
   "id": "ce42bfa3",
   "metadata": {},
   "outputs": [
    {
     "data": {
      "text/plain": [
       "[1, 2, 45, 3, 4, 5, [8, 9], [8, 9], [8, 9], [8, 9], [8, 9], 10, 11]"
      ]
     },
     "execution_count": 21,
     "metadata": {},
     "output_type": "execute_result"
    }
   ],
   "source": [
    "A"
   ]
  },
  {
   "cell_type": "code",
   "execution_count": 22,
   "id": "2bc55531",
   "metadata": {},
   "outputs": [
    {
     "ename": "TypeError",
     "evalue": "unsupported operand type(s) for +: 'int' and 'list'",
     "output_type": "error",
     "traceback": [
      "\u001b[1;31m---------------------------------------------------------------------------\u001b[0m",
      "\u001b[1;31mTypeError\u001b[0m                                 Traceback (most recent call last)",
      "Input \u001b[1;32mIn [22]\u001b[0m, in \u001b[0;36m<cell line: 1>\u001b[1;34m()\u001b[0m\n\u001b[1;32m----> 1\u001b[0m \u001b[38;5;28;43msum\u001b[39;49m\u001b[43m(\u001b[49m\u001b[43mA\u001b[49m\u001b[43m)\u001b[49m\n",
      "\u001b[1;31mTypeError\u001b[0m: unsupported operand type(s) for +: 'int' and 'list'"
     ]
    }
   ],
   "source": [
    "sum(A)"
   ]
  },
  {
   "cell_type": "code",
   "execution_count": 26,
   "id": "5cb1baa3",
   "metadata": {},
   "outputs": [
    {
     "data": {
      "text/plain": [
       "28.895400000000002"
      ]
     },
     "execution_count": 26,
     "metadata": {},
     "output_type": "execute_result"
    }
   ],
   "source": [
    "A=[1,2,3,4,5,6,7.8954]\n",
    "sum(A)"
   ]
  },
  {
   "cell_type": "markdown",
   "id": "3991ad9a",
   "metadata": {},
   "source": [
    "sum(A)"
   ]
  },
  {
   "cell_type": "code",
   "execution_count": 24,
   "id": "45276523",
   "metadata": {},
   "outputs": [
    {
     "name": "stdout",
     "output_type": "stream",
     "text": [
      "[1, 2, 3, 4, 5, 6, 7]\n"
     ]
    }
   ],
   "source": [
    "print(A)"
   ]
  },
  {
   "cell_type": "code",
   "execution_count": 29,
   "id": "72b1dea9",
   "metadata": {},
   "outputs": [
    {
     "ename": "TypeError",
     "evalue": "list.count() takes exactly one argument (0 given)",
     "output_type": "error",
     "traceback": [
      "\u001b[1;31m---------------------------------------------------------------------------\u001b[0m",
      "\u001b[1;31mTypeError\u001b[0m                                 Traceback (most recent call last)",
      "Input \u001b[1;32mIn [29]\u001b[0m, in \u001b[0;36m<cell line: 1>\u001b[1;34m()\u001b[0m\n\u001b[1;32m----> 1\u001b[0m \u001b[43mA\u001b[49m\u001b[38;5;241;43m.\u001b[39;49m\u001b[43mcount\u001b[49m\u001b[43m(\u001b[49m\u001b[43m)\u001b[49m\n",
      "\u001b[1;31mTypeError\u001b[0m: list.count() takes exactly one argument (0 given)"
     ]
    }
   ],
   "source": [
    "A.count()"
   ]
  },
  {
   "cell_type": "code",
   "execution_count": 27,
   "id": "30f2f778",
   "metadata": {},
   "outputs": [
    {
     "ename": "NameError",
     "evalue": "name 'count' is not defined",
     "output_type": "error",
     "traceback": [
      "\u001b[1;31m---------------------------------------------------------------------------\u001b[0m",
      "\u001b[1;31mNameError\u001b[0m                                 Traceback (most recent call last)",
      "Input \u001b[1;32mIn [27]\u001b[0m, in \u001b[0;36m<cell line: 1>\u001b[1;34m()\u001b[0m\n\u001b[1;32m----> 1\u001b[0m \u001b[43mcount\u001b[49m(A)\n",
      "\u001b[1;31mNameError\u001b[0m: name 'count' is not defined"
     ]
    }
   ],
   "source": [
    "Count(A)"
   ]
  },
  {
   "cell_type": "code",
   "execution_count": 30,
   "id": "e17ecf77",
   "metadata": {},
   "outputs": [
    {
     "data": {
      "text/plain": [
       "4"
      ]
     },
     "execution_count": 30,
     "metadata": {},
     "output_type": "execute_result"
    }
   ],
   "source": [
    "A.pop(3)"
   ]
  },
  {
   "cell_type": "code",
   "execution_count": 31,
   "id": "52a49918",
   "metadata": {},
   "outputs": [
    {
     "ename": "AttributeError",
     "evalue": "'list' object has no attribute 'len'",
     "output_type": "error",
     "traceback": [
      "\u001b[1;31m---------------------------------------------------------------------------\u001b[0m",
      "\u001b[1;31mAttributeError\u001b[0m                            Traceback (most recent call last)",
      "Input \u001b[1;32mIn [31]\u001b[0m, in \u001b[0;36m<cell line: 1>\u001b[1;34m()\u001b[0m\n\u001b[1;32m----> 1\u001b[0m \u001b[43mA\u001b[49m\u001b[38;5;241;43m.\u001b[39;49m\u001b[43mlen\u001b[49m()\n",
      "\u001b[1;31mAttributeError\u001b[0m: 'list' object has no attribute 'len'"
     ]
    }
   ],
   "source": [
    "A.len()"
   ]
  },
  {
   "cell_type": "code",
   "execution_count": 33,
   "id": "49f18ab5",
   "metadata": {},
   "outputs": [
    {
     "data": {
      "text/plain": [
       "['dsjhfdughfbhfxh']"
      ]
     },
     "execution_count": 33,
     "metadata": {},
     "output_type": "execute_result"
    }
   ],
   "source": [
    "s=[\"dsjhfdughfbhfxh\"]\n",
    "s"
   ]
  },
  {
   "cell_type": "code",
   "execution_count": 34,
   "id": "cc92a65d",
   "metadata": {},
   "outputs": [
    {
     "ename": "AttributeError",
     "evalue": "'list' object has no attribute 'len'",
     "output_type": "error",
     "traceback": [
      "\u001b[1;31m---------------------------------------------------------------------------\u001b[0m",
      "\u001b[1;31mAttributeError\u001b[0m                            Traceback (most recent call last)",
      "Input \u001b[1;32mIn [34]\u001b[0m, in \u001b[0;36m<cell line: 1>\u001b[1;34m()\u001b[0m\n\u001b[1;32m----> 1\u001b[0m \u001b[43ms\u001b[49m\u001b[38;5;241;43m.\u001b[39;49m\u001b[43mlen\u001b[49m()\n",
      "\u001b[1;31mAttributeError\u001b[0m: 'list' object has no attribute 'len'"
     ]
    }
   ],
   "source": [
    "s.len()"
   ]
  },
  {
   "cell_type": "code",
   "execution_count": 35,
   "id": "963c5559",
   "metadata": {},
   "outputs": [
    {
     "data": {
      "text/plain": [
       "1"
      ]
     },
     "execution_count": 35,
     "metadata": {},
     "output_type": "execute_result"
    }
   ],
   "source": [
    "len(s)"
   ]
  },
  {
   "cell_type": "code",
   "execution_count": 36,
   "id": "bd928684",
   "metadata": {},
   "outputs": [
    {
     "data": {
      "text/plain": [
       "6"
      ]
     },
     "execution_count": 36,
     "metadata": {},
     "output_type": "execute_result"
    }
   ],
   "source": [
    "len(A)"
   ]
  },
  {
   "cell_type": "code",
   "execution_count": 38,
   "id": "074e5739",
   "metadata": {},
   "outputs": [
    {
     "data": {
      "text/plain": [
       "1"
      ]
     },
     "execution_count": 38,
     "metadata": {},
     "output_type": "execute_result"
    }
   ],
   "source": [
    "A.count(2)"
   ]
  },
  {
   "cell_type": "code",
   "execution_count": 40,
   "id": "419eb52d",
   "metadata": {},
   "outputs": [
    {
     "data": {
      "text/plain": [
       "4"
      ]
     },
     "execution_count": 40,
     "metadata": {},
     "output_type": "execute_result"
    }
   ],
   "source": [
    "A=[1,1,1,1,3,4,4,5,5,6,6,6,6]\n",
    "A.count(6)"
   ]
  },
  {
   "cell_type": "code",
   "execution_count": 45,
   "id": "51ab4f96",
   "metadata": {},
   "outputs": [
    {
     "name": "stdout",
     "output_type": "stream",
     "text": [
      "[1, 1, 1, 1, 3, 4, 4, 5, 5, 6, 6, 6, 6]\n"
     ]
    },
    {
     "data": {
      "text/plain": [
       "5"
      ]
     },
     "execution_count": 45,
     "metadata": {},
     "output_type": "execute_result"
    }
   ],
   "source": [
    "A.index(3)\n",
    "print(A)\n",
    "A.index(4)"
   ]
  },
  {
   "cell_type": "code",
   "execution_count": 48,
   "id": "cc70cd47",
   "metadata": {},
   "outputs": [
    {
     "data": {
      "text/plain": [
       "0"
      ]
     },
     "execution_count": 48,
     "metadata": {},
     "output_type": "execute_result"
    }
   ],
   "source": [
    "S=[1,2,5,67,9,4,3]\n",
    "S.index()"
   ]
  },
  {
   "cell_type": "code",
   "execution_count": 50,
   "id": "83552304",
   "metadata": {},
   "outputs": [
    {
     "data": {
      "text/plain": [
       "1"
      ]
     },
     "execution_count": 50,
     "metadata": {},
     "output_type": "execute_result"
    }
   ],
   "source": [
    "A=[1,2,3,4,5,6,7]\n",
    "min(A)"
   ]
  },
  {
   "cell_type": "code",
   "execution_count": 51,
   "id": "db8db496",
   "metadata": {},
   "outputs": [
    {
     "data": {
      "text/plain": [
       "7"
      ]
     },
     "execution_count": 51,
     "metadata": {},
     "output_type": "execute_result"
    }
   ],
   "source": [
    "max(A)"
   ]
  },
  {
   "cell_type": "code",
   "execution_count": null,
   "id": "892e65e9",
   "metadata": {},
   "outputs": [],
   "source": []
  },
  {
   "cell_type": "markdown",
   "id": "578dc44f",
   "metadata": {},
   "source": [
    "# set"
   ]
  },
  {
   "cell_type": "markdown",
   "id": "33392050",
   "metadata": {},
   "source": [
    "## A set is an unordered collection data type that ir iterable, mutable, and has no duplicate elements. python's set class represents the mathematical notion of a set. this is based on a data structure know as a hash table"
   ]
  },
  {
   "cell_type": "code",
   "execution_count": null,
   "id": "9ad61ea9",
   "metadata": {},
   "outputs": [],
   "source": [
    "set_var={1,2,3,4,3}\n",
    "set_var.add(\"sowdhi\")\n",
    "set_var.tab click"
   ]
  },
  {
   "cell_type": "markdown",
   "id": "5d178b7d",
   "metadata": {},
   "source": [
    "# DICTIONARY"
   ]
  },
  {
   "cell_type": "markdown",
   "id": "e120b1eb",
   "metadata": {},
   "source": [
    "## A dictionary is a collection which is unordered, changeable and indexed. in python dictionaries are written with curly brackets, and they have keys and values."
   ]
  },
  {
   "cell_type": "code",
   "execution_count": null,
   "id": "014fa8f4",
   "metadata": {},
   "outputs": [],
   "source": [
    "dic={}\n",
    "type(dic)\n",
    "dic={1,2,3}\n",
    "type(dic)\n",
    "dic={\"a\":1,\"b\":2}\n",
    "for x in dic:\n",
    "    x\n",
    "    for x in dic.values:\n",
    "    x\n",
    "    for x in dic.items:\n",
    "        x\n",
    "dic. tabclick\n"
   ]
  },
  {
   "cell_type": "markdown",
   "id": "b19f71ed",
   "metadata": {},
   "source": [
    "# tuple"
   ]
  },
  {
   "cell_type": "code",
   "execution_count": null,
   "id": "7a38e29d",
   "metadata": {},
   "outputs": [],
   "source": [
    "tup()"
   ]
  },
  {
   "cell_type": "code",
   "execution_count": null,
   "id": "3ff38b2c",
   "metadata": {},
   "outputs": [],
   "source": []
  },
  {
   "cell_type": "code",
   "execution_count": null,
   "id": "e9d3650c",
   "metadata": {},
   "outputs": [],
   "source": []
  },
  {
   "cell_type": "code",
   "execution_count": null,
   "id": "b33c2aaf",
   "metadata": {},
   "outputs": [],
   "source": []
  },
  {
   "cell_type": "code",
   "execution_count": null,
   "id": "326b762b",
   "metadata": {},
   "outputs": [],
   "source": []
  },
  {
   "cell_type": "code",
   "execution_count": null,
   "id": "b7cac5c3",
   "metadata": {},
   "outputs": [],
   "source": []
  }
 ],
 "metadata": {
  "kernelspec": {
   "display_name": "Python 3 (ipykernel)",
   "language": "python",
   "name": "python3"
  },
  "language_info": {
   "codemirror_mode": {
    "name": "ipython",
    "version": 3
   },
   "file_extension": ".py",
   "mimetype": "text/x-python",
   "name": "python",
   "nbconvert_exporter": "python",
   "pygments_lexer": "ipython3",
   "version": "3.9.12"
  }
 },
 "nbformat": 4,
 "nbformat_minor": 5
}
