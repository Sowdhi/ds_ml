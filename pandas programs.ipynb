{
 "cells": [
  {
   "cell_type": "markdown",
   "id": "32723086",
   "metadata": {},
   "source": [
    "# pandas programs"
   ]
  },
  {
   "cell_type": "code",
   "execution_count": 1,
   "id": "d9bcbcfd",
   "metadata": {},
   "outputs": [],
   "source": [
    "import pandas as pd"
   ]
  },
  {
   "cell_type": "code",
   "execution_count": 8,
   "id": "561b8602",
   "metadata": {},
   "outputs": [
    {
     "data": {
      "text/html": [
       "<div>\n",
       "<style scoped>\n",
       "    .dataframe tbody tr th:only-of-type {\n",
       "        vertical-align: middle;\n",
       "    }\n",
       "\n",
       "    .dataframe tbody tr th {\n",
       "        vertical-align: top;\n",
       "    }\n",
       "\n",
       "    .dataframe thead th {\n",
       "        text-align: right;\n",
       "    }\n",
       "</style>\n",
       "<table border=\"1\" class=\"dataframe\">\n",
       "  <thead>\n",
       "    <tr style=\"text-align: right;\">\n",
       "      <th></th>\n",
       "      <th>name</th>\n",
       "      <th>height</th>\n",
       "      <th>weight</th>\n",
       "    </tr>\n",
       "  </thead>\n",
       "  <tbody>\n",
       "    <tr>\n",
       "      <th>0</th>\n",
       "      <td>sowdhi</td>\n",
       "      <td>5.2</td>\n",
       "      <td>55</td>\n",
       "    </tr>\n",
       "    <tr>\n",
       "      <th>1</th>\n",
       "      <td>sridevi</td>\n",
       "      <td>5.3</td>\n",
       "      <td>52</td>\n",
       "    </tr>\n",
       "    <tr>\n",
       "      <th>2</th>\n",
       "      <td>sowjanya</td>\n",
       "      <td>5.4</td>\n",
       "      <td>55</td>\n",
       "    </tr>\n",
       "  </tbody>\n",
       "</table>\n",
       "</div>"
      ],
      "text/plain": [
       "       name  height  weight\n",
       "0    sowdhi     5.2      55\n",
       "1   sridevi     5.3      52\n",
       "2  sowjanya     5.4      55"
      ]
     },
     "execution_count": 8,
     "metadata": {},
     "output_type": "execute_result"
    }
   ],
   "source": [
    "# making a dataframe with two dimentional array\n",
    "\n",
    "person_info=[['sowdhi',5.2,55],['sridevi',5.3,52],['sowjanya',5.4,55]]\n",
    "pd.DataFrame(person_info,columns=['name','height','weight'])"
   ]
  },
  {
   "cell_type": "code",
   "execution_count": 17,
   "id": "a5246d1e",
   "metadata": {},
   "outputs": [
    {
     "data": {
      "text/html": [
       "<div>\n",
       "<style scoped>\n",
       "    .dataframe tbody tr th:only-of-type {\n",
       "        vertical-align: middle;\n",
       "    }\n",
       "\n",
       "    .dataframe tbody tr th {\n",
       "        vertical-align: top;\n",
       "    }\n",
       "\n",
       "    .dataframe thead th {\n",
       "        text-align: right;\n",
       "    }\n",
       "</style>\n",
       "<table border=\"1\" class=\"dataframe\">\n",
       "  <thead>\n",
       "    <tr style=\"text-align: right;\">\n",
       "      <th></th>\n",
       "      <th>apple</th>\n",
       "      <th>banana</th>\n",
       "      <th>papaya</th>\n",
       "    </tr>\n",
       "  </thead>\n",
       "  <tbody>\n",
       "    <tr>\n",
       "      <th>cost</th>\n",
       "      <td>10</td>\n",
       "      <td>5</td>\n",
       "      <td>50</td>\n",
       "    </tr>\n",
       "    <tr>\n",
       "      <th>count</th>\n",
       "      <td>5</td>\n",
       "      <td>6</td>\n",
       "      <td>2</td>\n",
       "    </tr>\n",
       "  </tbody>\n",
       "</table>\n",
       "</div>"
      ],
      "text/plain": [
       "       apple  banana  papaya\n",
       "cost      10       5      50\n",
       "count      5       6       2"
      ]
     },
     "execution_count": 17,
     "metadata": {},
     "output_type": "execute_result"
    }
   ],
   "source": [
    "# making a Dataframe from dict of narray/list\n",
    "\n",
    "fruits={'apple':[10,5],'banana':[5,6],'papaya':[50,2]}\n",
    "pd.DataFrame(fruits,index=['cost','count'])"
   ]
  },
  {
   "cell_type": "code",
   "execution_count": 20,
   "id": "eb20a8d6",
   "metadata": {},
   "outputs": [
    {
     "data": {
      "text/html": [
       "<div>\n",
       "<style scoped>\n",
       "    .dataframe tbody tr th:only-of-type {\n",
       "        vertical-align: middle;\n",
       "    }\n",
       "\n",
       "    .dataframe tbody tr th {\n",
       "        vertical-align: top;\n",
       "    }\n",
       "\n",
       "    .dataframe thead th {\n",
       "        text-align: right;\n",
       "    }\n",
       "</style>\n",
       "<table border=\"1\" class=\"dataframe\">\n",
       "  <thead>\n",
       "    <tr style=\"text-align: right;\">\n",
       "      <th></th>\n",
       "      <th>name</th>\n",
       "      <th>salary</th>\n",
       "    </tr>\n",
       "  </thead>\n",
       "  <tbody>\n",
       "    <tr>\n",
       "      <th>1194041</th>\n",
       "      <td>sowdhi</td>\n",
       "      <td>15000</td>\n",
       "    </tr>\n",
       "    <tr>\n",
       "      <th>1194064</th>\n",
       "      <td>sridevi</td>\n",
       "      <td>15000</td>\n",
       "    </tr>\n",
       "    <tr>\n",
       "      <th>1226999</th>\n",
       "      <td>sowjanya</td>\n",
       "      <td>15000</td>\n",
       "    </tr>\n",
       "  </tbody>\n",
       "</table>\n",
       "</div>"
      ],
      "text/plain": [
       "             name  salary\n",
       "1194041    sowdhi   15000\n",
       "1194064   sridevi   15000\n",
       "1226999  sowjanya   15000"
      ]
     },
     "execution_count": 20,
     "metadata": {},
     "output_type": "execute_result"
    }
   ],
   "source": [
    "# making Dataframe from list of tuples\n",
    "\n",
    "employe=[('sowdhi',15000),('sridevi',15000),('sowjanya',15000)]\n",
    "pd.DataFrame(employe,columns=['name','salary'],index=[1194041,1194064,1226999])"
   ]
  },
  {
   "cell_type": "code",
   "execution_count": 24,
   "id": "2c7c108e",
   "metadata": {},
   "outputs": [
    {
     "data": {
      "text/html": [
       "<div>\n",
       "<style scoped>\n",
       "    .dataframe tbody tr th:only-of-type {\n",
       "        vertical-align: middle;\n",
       "    }\n",
       "\n",
       "    .dataframe tbody tr th {\n",
       "        vertical-align: top;\n",
       "    }\n",
       "\n",
       "    .dataframe thead th {\n",
       "        text-align: right;\n",
       "    }\n",
       "</style>\n",
       "<table border=\"1\" class=\"dataframe\">\n",
       "  <thead>\n",
       "    <tr style=\"text-align: right;\">\n",
       "      <th></th>\n",
       "      <th>name</th>\n",
       "      <th>class</th>\n",
       "      <th>grade</th>\n",
       "    </tr>\n",
       "  </thead>\n",
       "  <tbody>\n",
       "    <tr>\n",
       "      <th>0</th>\n",
       "      <td>sowjanya</td>\n",
       "      <td>10</td>\n",
       "      <td>A</td>\n",
       "    </tr>\n",
       "    <tr>\n",
       "      <th>1</th>\n",
       "      <td>sridevi</td>\n",
       "      <td>9</td>\n",
       "      <td>B</td>\n",
       "    </tr>\n",
       "  </tbody>\n",
       "</table>\n",
       "</div>"
      ],
      "text/plain": [
       "       name  class grade\n",
       "0  sowjanya     10     A\n",
       "1   sridevi      9     B"
      ]
     },
     "execution_count": 24,
     "metadata": {},
     "output_type": "execute_result"
    }
   ],
   "source": [
    "# making Dataframe from list of dict\n",
    "\n",
    "student=[{'name':'sowjanya','class':10,'grade':'A'},\n",
    "        {'name':'sridevi','class':9,'grade':'B'}]\n",
    "pd.DataFrame(student)"
   ]
  },
  {
   "cell_type": "code",
   "execution_count": 34,
   "id": "f88d4743",
   "metadata": {},
   "outputs": [
    {
     "name": "stdout",
     "output_type": "stream",
     "text": [
      "[{'student': [{'marks': 90, 'grade': 'A'}, {'marks': 95, 'grade': 'B'}], 'name': 'sridevi'}, {'student': [{'marks': 85, 'grade': 'B'}, {'marks': 75, 'grade': 'C'}], 'name': 'sowdhi'}]\n"
     ]
    }
   ],
   "source": [
    "# list of nested dict\n",
    "\n",
    "list=[\n",
    "      {\n",
    "        \"student\":[{\"marks\":90, \"grade\":\"A\"},\n",
    "                   {\"marks\":95, \"grade\":\"B\"}\n",
    "                  ],\n",
    "      \"name\":\"sridevi\"\n",
    "      },\n",
    "      {\n",
    "      \"student\":[{\"marks\":85, \"grade\":\"B\"},\n",
    "                  {\"marks\":75, \"grade\":\"C\"}\n",
    "                ],\n",
    "      \"name\":\"sowdhi\"}\n",
    "      ]\n",
    "print(list)"
   ]
  },
  {
   "cell_type": "code",
   "execution_count": 38,
   "id": "4221bada",
   "metadata": {},
   "outputs": [
    {
     "data": {
      "text/html": [
       "<div>\n",
       "<style scoped>\n",
       "    .dataframe tbody tr th:only-of-type {\n",
       "        vertical-align: middle;\n",
       "    }\n",
       "\n",
       "    .dataframe tbody tr th {\n",
       "        vertical-align: top;\n",
       "    }\n",
       "\n",
       "    .dataframe thead th {\n",
       "        text-align: right;\n",
       "    }\n",
       "</style>\n",
       "<table border=\"1\" class=\"dataframe\">\n",
       "  <thead>\n",
       "    <tr style=\"text-align: right;\">\n",
       "      <th></th>\n",
       "      <th>apple</th>\n",
       "      <th>banana</th>\n",
       "      <th>papaya</th>\n",
       "    </tr>\n",
       "  </thead>\n",
       "  <tbody>\n",
       "    <tr>\n",
       "      <th>cost</th>\n",
       "      <td>10</td>\n",
       "      <td>5</td>\n",
       "      <td>50</td>\n",
       "    </tr>\n",
       "    <tr>\n",
       "      <th>count</th>\n",
       "      <td>5</td>\n",
       "      <td>6</td>\n",
       "      <td>2</td>\n",
       "    </tr>\n",
       "  </tbody>\n",
       "</table>\n",
       "</div>"
      ],
      "text/plain": [
       "       apple  banana  papaya\n",
       "cost      10       5      50\n",
       "count      5       6       2"
      ]
     },
     "execution_count": 38,
     "metadata": {},
     "output_type": "execute_result"
    }
   ],
   "source": [
    "# replace values in dataframe using regex\n",
    "\n",
    "fruits={'apple':[10,5],'banana':[5,6],'papaya':[50,2]}\n",
    "pd.DataFrame(fruits,index=['cost','count'])"
   ]
  },
  {
   "cell_type": "code",
   "execution_count": 40,
   "id": "d5dc542c",
   "metadata": {},
   "outputs": [
    {
     "data": {
      "text/html": [
       "<div>\n",
       "<style scoped>\n",
       "    .dataframe tbody tr th:only-of-type {\n",
       "        vertical-align: middle;\n",
       "    }\n",
       "\n",
       "    .dataframe tbody tr th {\n",
       "        vertical-align: top;\n",
       "    }\n",
       "\n",
       "    .dataframe thead th {\n",
       "        text-align: right;\n",
       "    }\n",
       "</style>\n",
       "<table border=\"1\" class=\"dataframe\">\n",
       "  <thead>\n",
       "    <tr style=\"text-align: right;\">\n",
       "      <th></th>\n",
       "      <th>name</th>\n",
       "      <th>salary</th>\n",
       "    </tr>\n",
       "  </thead>\n",
       "  <tbody>\n",
       "    <tr>\n",
       "      <th>1194041</th>\n",
       "      <td>sowdhi</td>\n",
       "      <td>15000</td>\n",
       "    </tr>\n",
       "    <tr>\n",
       "      <th>1194064</th>\n",
       "      <td>sridevi</td>\n",
       "      <td>15000</td>\n",
       "    </tr>\n",
       "    <tr>\n",
       "      <th>1226999</th>\n",
       "      <td>sowjanya</td>\n",
       "      <td>15000</td>\n",
       "    </tr>\n",
       "  </tbody>\n",
       "</table>\n",
       "</div>"
      ],
      "text/plain": [
       "             name  salary\n",
       "1194041    sowdhi   15000\n",
       "1194064   sridevi   15000\n",
       "1226999  sowjanya   15000"
      ]
     },
     "execution_count": 40,
     "metadata": {},
     "output_type": "execute_result"
    }
   ],
   "source": [
    "employe=(['sowdhi',15000],['sridevi',15000],['sowjanya',15000])\n",
    "pd.DataFrame(employe,columns=['name','salary'],index=[1194041,1194064,1226999])"
   ]
  },
  {
   "cell_type": "code",
   "execution_count": 41,
   "id": "7692d9dd",
   "metadata": {},
   "outputs": [
    {
     "ename": "AttributeError",
     "evalue": "'tuple' object has no attribute 'replace'",
     "output_type": "error",
     "traceback": [
      "\u001b[1;31m---------------------------------------------------------------------------\u001b[0m",
      "\u001b[1;31mAttributeError\u001b[0m                            Traceback (most recent call last)",
      "Input \u001b[1;32mIn [41]\u001b[0m, in \u001b[0;36m<cell line: 1>\u001b[1;34m()\u001b[0m\n\u001b[1;32m----> 1\u001b[0m result\u001b[38;5;241m=\u001b[39m\u001b[43memploye\u001b[49m\u001b[38;5;241;43m.\u001b[39;49m\u001b[43mreplace\u001b[49m(to_replace\u001b[38;5;241m=\u001b[39m\u001b[38;5;241m15000\u001b[39m,value\u001b[38;5;241m=\u001b[39m\u001b[38;5;241m20000\u001b[39m,regex\u001b[38;5;241m=\u001b[39m\u001b[38;5;28;01mTrue\u001b[39;00m)\n\u001b[0;32m      2\u001b[0m \u001b[38;5;28mprint\u001b[39m(result)\n",
      "\u001b[1;31mAttributeError\u001b[0m: 'tuple' object has no attribute 'replace'"
     ]
    }
   ],
   "source": [
    "result=employe.replace(to_replace=15000,value=20000,regex=True)\n",
    "print(result)"
   ]
  },
  {
   "cell_type": "code",
   "execution_count": 42,
   "id": "5f1294fb",
   "metadata": {},
   "outputs": [
    {
     "name": "stdout",
     "output_type": "stream",
     "text": [
      "                City        Event   Cost\n",
      "2018-02     New York        Music  10000\n",
      "2018-04      Parague       Poetry   5000\n",
      "2018-06    New Delhi      Theatre  15000\n",
      "2018-10       Venice       Comedy   2000\n",
      "2018-12  new Orleans  Tech_Summit  12000\n"
     ]
    }
   ],
   "source": [
    "df = pd.DataFrame({'City':['New York', 'Parague', 'New Delhi', 'Venice', 'new Orleans'],\n",
    "                    'Event':['Music', 'Poetry', 'Theatre', 'Comedy', 'Tech_Summit'],\n",
    "                    'Cost':[10000, 5000, 15000, 2000, 12000]})\n",
    "  \n",
    "# Let's create the index\n",
    "index_ = [pd.Period('02-2018'), pd.Period('04-2018'),\n",
    "          pd.Period('06-2018'), pd.Period('10-2018'), pd.Period('12-2018')]\n",
    "  \n",
    "# Set the index\n",
    "df.index = index_\n",
    "  \n",
    "# Let's print the dataframe\n",
    "print(df)"
   ]
  },
  {
   "cell_type": "code",
   "execution_count": 43,
   "id": "3a037ea6",
   "metadata": {
    "scrolled": true
   },
   "outputs": [
    {
     "name": "stdout",
     "output_type": "stream",
     "text": [
      "                City        Event   Cost\n",
      "2018-02     New York        Music  10000\n",
      "2018-04      Parague       Poetry   5000\n",
      "2018-06    New Delhi      Theatre  15000\n",
      "2018-10       Venice       Comedy  40000\n",
      "2018-12  new Orleans  Tech_Summit  12000\n"
     ]
    }
   ],
   "source": [
    "result=df.replace(to_replace=2000,value=40000,regex=True)\n",
    "print(result)"
   ]
  },
  {
   "cell_type": "code",
   "execution_count": 47,
   "id": "fe6d4d29",
   "metadata": {},
   "outputs": [
    {
     "name": "stdout",
     "output_type": "stream",
     "text": [
      "       apple  banana  papaya\n",
      "cost      10       5      50\n",
      "count      5       6       2\n"
     ]
    }
   ],
   "source": [
    "df=pd.DataFrame({'apple':[10,5],'banana':[5,6],'papaya':[50,2]})\n",
    "index=['cost','count']\n",
    "df.index=index\n",
    "print(df)"
   ]
  },
  {
   "cell_type": "code",
   "execution_count": 49,
   "id": "68ee17e2",
   "metadata": {},
   "outputs": [
    {
     "name": "stdout",
     "output_type": "stream",
     "text": [
      "       apple  banana  papaya\n",
      "cost      10     100      50\n",
      "count    100       6       2\n"
     ]
    }
   ],
   "source": [
    "result=df.replace(to_replace=5,value=100,regex=True)\n",
    "print(result)"
   ]
  },
  {
   "cell_type": "code",
   "execution_count": 6,
   "id": "37a11495",
   "metadata": {},
   "outputs": [
    {
     "name": "stdout",
     "output_type": "stream",
     "text": [
      "            Date    Event   Cost\n",
      "0      10/2/2011    Music  10000\n",
      "1      11/2/2011   Poetry  12000\n",
      "2      12/2/2011  Theatre   5000\n",
      "3      13/2/2011   Comedy   8000\n"
     ]
    }
   ],
   "source": [
    "from io import StringIO\n",
    "  \n",
    "# wrap the string data in StringIO function\n",
    "StringData = StringIO(\"\"\"Date;Event;Cost\n",
    "    10/2/2011;Music;10000\n",
    "    11/2/2011;Poetry;12000\n",
    "    12/2/2011;Theatre;5000\n",
    "    13/2/2011;Comedy;8000\n",
    "    \"\"\")\n",
    "  \n",
    "# let's read the data using the Pandas\n",
    "# read_csv() function\n",
    "df = pd.read_csv(StringData,sep=';')\n",
    "  \n",
    "# Print the dataframe\n",
    "print(df)"
   ]
  },
  {
   "cell_type": "code",
   "execution_count": 2,
   "id": "02ecbe8d",
   "metadata": {},
   "outputs": [
    {
     "name": "stdout",
     "output_type": "stream",
     "text": [
      "Original DataFrame: \n",
      "      name  age\n",
      "0  Sujeet   10\n",
      "1  Sameer   11\n",
      "2   Sumit   12\n"
     ]
    }
   ],
   "source": [
    "input_df = [{'name':'Sujeet', 'age':10},\n",
    "            {'name':'Sameer', 'age':11},\n",
    "            {'name':'Sumit', 'age':12}]\n",
    " \n",
    "df = pd.DataFrame(input_df)\n",
    "print('Original DataFrame: \\n', df)"
   ]
  },
  {
   "cell_type": "code",
   "execution_count": 3,
   "id": "df0a4557",
   "metadata": {},
   "outputs": [
    {
     "name": "stdout",
     "output_type": "stream",
     "text": [
      "Sujeet 10\n",
      "Sameer 11\n",
      "Sumit 12\n"
     ]
    }
   ],
   "source": [
    "for index, row in df.iterrows():\n",
    "    print(row['name'], row['age'])"
   ]
  },
  {
   "cell_type": "code",
   "execution_count": 4,
   "id": "ff3c0913",
   "metadata": {},
   "outputs": [
    {
     "name": "stdout",
     "output_type": "stream",
     "text": [
      "Given Dataframe :\n",
      "         Name  Age    Stream  Percentage\n",
      "0      Ankit   21      Math          88\n",
      "1       Amit   19  Commerce          92\n",
      "2  Aishwarya   20      Arts          95\n",
      "3   Priyanka   18   Biology          70\n",
      "\n",
      "Iterating over rows using index attribute :\n",
      "\n",
      "Ankit Math\n",
      "Amit Commerce\n",
      "Aishwarya Arts\n",
      "Priyanka Biology\n"
     ]
    }
   ],
   "source": [
    "data = {'Name': ['Ankit', 'Amit',\n",
    "                 'Aishwarya', 'Priyanka'],\n",
    "        'Age': [21, 19, 20, 18],\n",
    "        'Stream': ['Math', 'Commerce',\n",
    "                   'Arts', 'Biology'],\n",
    "        'Percentage': [88, 92, 95, 70]}\n",
    "  \n",
    "# Convert the dictionary into DataFrame\n",
    "df = pd.DataFrame(data, columns=['Name', 'Age', \n",
    "                                 'Stream', 'Percentage'])\n",
    "  \n",
    "print(\"Given Dataframe :\\n\", df)\n",
    "  \n",
    "print(\"\\nIterating over rows using index attribute :\\n\")\n",
    "  \n",
    "# iterate through each row and select\n",
    "# 'Name' and 'Stream' column respectively.\n",
    "for ind in df.index:\n",
    "    print(df['Name'][ind], df['Stream'][ind])"
   ]
  },
  {
   "cell_type": "code",
   "execution_count": 5,
   "id": "62d7c8cb",
   "metadata": {},
   "outputs": [
    {
     "name": "stdout",
     "output_type": "stream",
     "text": [
      "Given Dataframe :\n",
      "         Name  Age    Stream  Percentage\n",
      "0      Ankit   21      Math          88\n",
      "1       Amit   19  Commerce          92\n",
      "2  Aishwarya   20   Science          95\n",
      "3   Priyanka   18      Math          70\n",
      "4      Priya   17      Math          65\n",
      "5    Shaurya   21   Science          78\n",
      "\n",
      "Result dataframe :\n",
      "         Name  Age    Stream  Percentage\n",
      "0      Ankit   21      Math          88\n",
      "1       Amit   19  Commerce          92\n",
      "2  Aishwarya   20   Science          95\n"
     ]
    }
   ],
   "source": [
    "record = {\n",
    "  \n",
    " 'Name': ['Ankit', 'Amit', 'Aishwarya', 'Priyanka', 'Priya', 'Shaurya' ],\n",
    " 'Age': [21, 19, 20, 18, 17, 21],\n",
    " 'Stream': ['Math', 'Commerce', 'Science', 'Math', 'Math', 'Science'],\n",
    " 'Percentage': [88, 92, 95, 70, 65, 78] }\n",
    "  \n",
    "# create a dataframe\n",
    "dataframe = pd.DataFrame(record, columns = ['Name', 'Age', 'Stream', 'Percentage'])\n",
    "  \n",
    "print(\"Given Dataframe :\\n\", dataframe) \n",
    "  \n",
    "# selecting rows based on condition\n",
    "rslt_df = dataframe[dataframe['Percentage'] > 80]\n",
    "  \n",
    "print('\\nResult dataframe :\\n', rslt_df)"
   ]
  },
  {
   "cell_type": "code",
   "execution_count": 11,
   "id": "f6d8b2b4",
   "metadata": {},
   "outputs": [
    {
     "name": "stdout",
     "output_type": "stream",
     "text": [
      "[['11/2/2011', 'Poetry', 5000], ['12/2/2011', 'Theatre', 15000]]\n"
     ]
    }
   ],
   "source": [
    "df = pd.DataFrame({'Date':['10/2/2011', '11/2/2011', '12/2/2011', '13/2/11'],\n",
    "                    'Event':['Music', 'Poetry', 'Theatre', 'Comedy'],\n",
    "                    'Cost':[10000, 5000, 15000, 2000]})\n",
    " \n",
    "# Create an empty list\n",
    "Row_list =[]\n",
    "   \n",
    "# Iterate over each row\n",
    "for i in range((df.shape[0])):\n",
    "   \n",
    "    # Using iloc to access the values of \n",
    "    # the current row denoted by \"i\"\n",
    "    Row_list.append(list(df.iloc[i, :]))\n",
    "   \n",
    "# Print the first 3 elements\n",
    "print(Row_list[1:3])"
   ]
  },
  {
   "cell_type": "code",
   "execution_count": 35,
   "id": "783ffdb5",
   "metadata": {},
   "outputs": [
    {
     "name": "stdout",
     "output_type": "stream",
     "text": [
      "     Name  Age    Address Qualification\n",
      "0     Jai   27      Delhi           Msc\n",
      "1  Princi   24     Kanpur            MA\n",
      "2  Gaurav   22  Allahabad           MCA\n",
      "3    Anuj   32    Kannauj           Phd\n",
      "------------------\n",
      "     Name Qualification\n",
      "0     Jai           Msc\n",
      "1  Princi            MA\n"
     ]
    }
   ],
   "source": [
    "data = {'Name':['Jai', 'Princi', 'Gaurav', 'Anuj'], \n",
    "        'Age':[27, 24, 22, 32], \n",
    "        'Address':['Delhi', 'Kanpur', 'Allahabad', 'Kannauj'], \n",
    "        'Qualification':['Msc', 'MA', 'MCA', 'Phd']} \n",
    "    \n",
    "# Convert the dictionary into DataFrame  \n",
    "df = pd.DataFrame(data) \n",
    "print(df)\n",
    "print(\"------------------\")\n",
    "# select three rows and two columns \n",
    "print(df.loc[0:1, ['Name', 'Qualification']])"
   ]
  },
  {
   "cell_type": "code",
   "execution_count": 56,
   "id": "31d71321",
   "metadata": {},
   "outputs": [
    {
     "name": "stdout",
     "output_type": "stream",
     "text": [
      "  Voter_name  Voter_age\n",
      "0      Geek1       15.0\n",
      "1      Geek2       23.0\n",
      "2      Geek3       25.0\n",
      "3      Geek4        9.0\n",
      "4      Geek5       67.0\n",
      "5      Geek6       54.0\n",
      "6      Geek7       42.0\n",
      "7      Geek8        NaN\n",
      "  Voter_name  Voter_age     voter\n",
      "0      Geek1       15.0        No\n",
      "1      Geek2       23.0       Yes\n",
      "2      Geek3       25.0       Yes\n",
      "3      Geek4        9.0        No\n",
      "4      Geek5       67.0       Yes\n",
      "5      Geek6       54.0       Yes\n",
      "6      Geek7       42.0       Yes\n",
      "7      Geek8        NaN  Not Sure\n",
      "Index(['Voter_name', 'Voter_age', 'voter'], dtype='object')\n"
     ]
    }
   ],
   "source": [
    "import pandas as pd\n",
    "import numpy as np\n",
    "  \n",
    "raw_Data = {'Voter_name': ['Geek1', 'Geek2', 'Geek3', 'Geek4', \n",
    "                           'Geek5', 'Geek6', 'Geek7', 'Geek8'], \n",
    "            'Voter_age': [15, 23, 25, 9, 67, 54, 42, np.NaN]}\n",
    "  \n",
    "df = pd.DataFrame(raw_Data, columns = ['Voter_name', 'Voter_age'])\n",
    "print(df)\n",
    "  \n",
    "eligible = []\n",
    "  \n",
    "# For each row in the column\n",
    "for age in df['Voter_age']:       \n",
    "    if age >= 18:                   # if Voter eligible\n",
    "        eligible.append('Yes')\n",
    "    elif age < 18:                  # if voter is not eligible\n",
    "        eligible.append(\"No\")\n",
    "    else:\n",
    "        eligible.append(\"Not Sure\")\n",
    "  \n",
    "# Create a column from the list\n",
    "df['voter']=eligible\n",
    "print(df)\n",
    "df.rename(columns = {'voter_name':'TEST'}, inplace = True)\n",
    "print(df.columns)"
   ]
  },
  {
   "cell_type": "code",
   "execution_count": 44,
   "id": "21a0f0f1",
   "metadata": {},
   "outputs": [
    {
     "name": "stdout",
     "output_type": "stream",
     "text": [
      "              Name            Team  Number Position   Age Height  Weight  \\\n",
      "0    Avery Bradley  Boston Celtics     0.0       PG  25.0    6-2   180.0   \n",
      "1      Jae Crowder  Boston Celtics    99.0       SF  25.0    6-6   235.0   \n",
      "2     John Holland  Boston Celtics    30.0       SG  27.0    6-5   205.0   \n",
      "3      R.J. Hunter  Boston Celtics    28.0       SG  22.0    6-5   185.0   \n",
      "4    Jonas Jerebko  Boston Celtics     8.0       PF  29.0   6-10   231.0   \n",
      "..             ...             ...     ...      ...   ...    ...     ...   \n",
      "453   Shelvin Mack       Utah Jazz     8.0       PG  26.0    6-3   203.0   \n",
      "454      Raul Neto       Utah Jazz    25.0       PG  24.0    6-1   179.0   \n",
      "455   Tibor Pleiss       Utah Jazz    21.0        C  26.0    7-3   256.0   \n",
      "456    Jeff Withey       Utah Jazz    24.0        C  26.0    7-0   231.0   \n",
      "457            NaN             NaN     NaN      NaN   NaN    NaN     NaN   \n",
      "\n",
      "               College     Salary  \n",
      "0                Texas  7730337.0  \n",
      "1            Marquette  6796117.0  \n",
      "2    Boston University        NaN  \n",
      "3        Georgia State  1148640.0  \n",
      "4                  NaN  5000000.0  \n",
      "..                 ...        ...  \n",
      "453             Butler  2433333.0  \n",
      "454                NaN   900000.0  \n",
      "455                NaN  2900000.0  \n",
      "456             Kansas   947276.0  \n",
      "457                NaN        NaN  \n",
      "\n",
      "[458 rows x 9 columns]\n"
     ]
    },
    {
     "data": {
      "text/html": [
       "<div>\n",
       "<style scoped>\n",
       "    .dataframe tbody tr th:only-of-type {\n",
       "        vertical-align: middle;\n",
       "    }\n",
       "\n",
       "    .dataframe tbody tr th {\n",
       "        vertical-align: top;\n",
       "    }\n",
       "\n",
       "    .dataframe thead th {\n",
       "        text-align: right;\n",
       "    }\n",
       "</style>\n",
       "<table border=\"1\" class=\"dataframe\">\n",
       "  <thead>\n",
       "    <tr style=\"text-align: right;\">\n",
       "      <th></th>\n",
       "      <th>Name</th>\n",
       "      <th>Team</th>\n",
       "      <th>Number</th>\n",
       "      <th>Position</th>\n",
       "      <th>Age</th>\n",
       "      <th>Height</th>\n",
       "      <th>Weight</th>\n",
       "      <th>College</th>\n",
       "      <th>Salary</th>\n",
       "    </tr>\n",
       "  </thead>\n",
       "  <tbody>\n",
       "    <tr>\n",
       "      <th>453</th>\n",
       "      <td>Shelvin Mack</td>\n",
       "      <td>Utah Jazz</td>\n",
       "      <td>8.0</td>\n",
       "      <td>PG</td>\n",
       "      <td>26.0</td>\n",
       "      <td>6-3</td>\n",
       "      <td>203.0</td>\n",
       "      <td>Butler</td>\n",
       "      <td>2433333.0</td>\n",
       "    </tr>\n",
       "    <tr>\n",
       "      <th>454</th>\n",
       "      <td>Raul Neto</td>\n",
       "      <td>Utah Jazz</td>\n",
       "      <td>25.0</td>\n",
       "      <td>PG</td>\n",
       "      <td>24.0</td>\n",
       "      <td>6-1</td>\n",
       "      <td>179.0</td>\n",
       "      <td>NaN</td>\n",
       "      <td>900000.0</td>\n",
       "    </tr>\n",
       "    <tr>\n",
       "      <th>455</th>\n",
       "      <td>Tibor Pleiss</td>\n",
       "      <td>Utah Jazz</td>\n",
       "      <td>21.0</td>\n",
       "      <td>C</td>\n",
       "      <td>26.0</td>\n",
       "      <td>7-3</td>\n",
       "      <td>256.0</td>\n",
       "      <td>NaN</td>\n",
       "      <td>2900000.0</td>\n",
       "    </tr>\n",
       "    <tr>\n",
       "      <th>456</th>\n",
       "      <td>Jeff Withey</td>\n",
       "      <td>Utah Jazz</td>\n",
       "      <td>24.0</td>\n",
       "      <td>C</td>\n",
       "      <td>26.0</td>\n",
       "      <td>7-0</td>\n",
       "      <td>231.0</td>\n",
       "      <td>Kansas</td>\n",
       "      <td>947276.0</td>\n",
       "    </tr>\n",
       "    <tr>\n",
       "      <th>457</th>\n",
       "      <td>NaN</td>\n",
       "      <td>NaN</td>\n",
       "      <td>NaN</td>\n",
       "      <td>NaN</td>\n",
       "      <td>NaN</td>\n",
       "      <td>NaN</td>\n",
       "      <td>NaN</td>\n",
       "      <td>NaN</td>\n",
       "      <td>NaN</td>\n",
       "    </tr>\n",
       "  </tbody>\n",
       "</table>\n",
       "</div>"
      ],
      "text/plain": [
       "             Name       Team  Number Position   Age Height  Weight College  \\\n",
       "453  Shelvin Mack  Utah Jazz     8.0       PG  26.0    6-3   203.0  Butler   \n",
       "454     Raul Neto  Utah Jazz    25.0       PG  24.0    6-1   179.0     NaN   \n",
       "455  Tibor Pleiss  Utah Jazz    21.0        C  26.0    7-3   256.0     NaN   \n",
       "456   Jeff Withey  Utah Jazz    24.0        C  26.0    7-0   231.0  Kansas   \n",
       "457           NaN        NaN     NaN      NaN   NaN    NaN     NaN     NaN   \n",
       "\n",
       "        Salary  \n",
       "453  2433333.0  \n",
       "454   900000.0  \n",
       "455  2900000.0  \n",
       "456   947276.0  \n",
       "457        NaN  "
      ]
     },
     "execution_count": 44,
     "metadata": {},
     "output_type": "execute_result"
    }
   ],
   "source": [
    "data = pd.read_csv(\"https://media.geeksforgeeks.org/wp-content/uploads/nba.csv\")\n",
    "print(data)\n",
    "   \n",
    "# calling head() method \n",
    "# storing in new variable\n",
    "data_top = data.tail()\n",
    "   \n",
    "# display\n",
    "data_top"
   ]
  },
  {
   "cell_type": "code",
   "execution_count": 52,
   "id": "139ce341",
   "metadata": {},
   "outputs": [
    {
     "name": "stdout",
     "output_type": "stream",
     "text": [
      "None\n"
     ]
    }
   ],
   "source": [
    "import pandas as pd\n",
    "   \n",
    "# making data frame\n",
    "data = pd.read_csv(\"Test1.csv\")\n",
    "df=data.rename(columns={'column1':'num'},inplace=True)  \n",
    "print(df)\n"
   ]
  },
  {
   "cell_type": "code",
   "execution_count": 59,
   "id": "7be9436f",
   "metadata": {},
   "outputs": [
    {
     "name": "stdout",
     "output_type": "stream",
     "text": [
      "  Voter_name  Voter_age\n",
      "0      Geek1       15.0\n",
      "1      Geek2       23.0\n",
      "2      Geek3       25.0\n",
      "3      Geek4        9.0\n",
      "4      Geek5       67.0\n",
      "5      Geek6       54.0\n",
      "6      Geek7       42.0\n",
      "7      Geek8        NaN\n",
      "\n",
      "After modifying first column:\n",
      " Index(['TEST', 'Voter_age'], dtype='object')\n"
     ]
    }
   ],
   "source": [
    "import pandas as pd\n",
    "import numpy as np\n",
    "  \n",
    "raw_Data = {'Voter_name': ['Geek1', 'Geek2', 'Geek3', 'Geek4', \n",
    "                           'Geek5', 'Geek6', 'Geek7', 'Geek8'], \n",
    "            'Voter_age': [15, 23, 25, 9, 67, 54, 42, np.NaN]}\n",
    "  \n",
    "df = pd.DataFrame(raw_Data, columns = ['Voter_name', 'Voter_age'])\n",
    "print(df)\n",
    "df.rename(columns = {'Voter_name':'TEST'}, inplace = True)\n",
    "  \n",
    "# After renaming the columns\n",
    "print(\"\\nAfter modifying first column:\\n\", df.columns)"
   ]
  },
  {
   "cell_type": "code",
   "execution_count": null,
   "id": "28dd516a",
   "metadata": {},
   "outputs": [],
   "source": []
  }
 ],
 "metadata": {
  "kernelspec": {
   "display_name": "Python 3 (ipykernel)",
   "language": "python",
   "name": "python3"
  },
  "language_info": {
   "codemirror_mode": {
    "name": "ipython",
    "version": 3
   },
   "file_extension": ".py",
   "mimetype": "text/x-python",
   "name": "python",
   "nbconvert_exporter": "python",
   "pygments_lexer": "ipython3",
   "version": "3.9.12"
  }
 },
 "nbformat": 4,
 "nbformat_minor": 5
}
