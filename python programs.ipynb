{
 "cells": [
  {
   "cell_type": "markdown",
   "id": "b32f5ba8",
   "metadata": {},
   "source": [
    "# sum of no.of digit in list"
   ]
  },
  {
   "cell_type": "code",
   "execution_count": 1,
   "id": "56136356",
   "metadata": {},
   "outputs": [
    {
     "name": "stdout",
     "output_type": "stream",
     "text": [
      "result list:[1, 2, 3, 4, 5]\n"
     ]
    }
   ],
   "source": [
    "# programe 1\n",
    "\n",
    "my_list=[10,20,30,40,50]\n",
    "res=[]\n",
    "for ele in my_list:\n",
    "    sum=0\n",
    "    for digit in str(ele):\n",
    "        sum += int(digit)\n",
    "    res.append(sum)\n",
    "print(\"result list:\" +str(res))"
   ]
  },
  {
   "cell_type": "code",
   "execution_count": 3,
   "id": "a1d21143",
   "metadata": {},
   "outputs": [
    {
     "name": "stdout",
     "output_type": "stream",
     "text": [
      "total: 150\n"
     ]
    }
   ],
   "source": [
    "my_list=[10,20,30,40,50]\n",
    "total=0\n",
    "for ele in range(0,len(my_list)):\n",
    "    total=total+my_list[ele]\n",
    "print(\"total:\" , total)    \n"
   ]
  },
  {
   "cell_type": "markdown",
   "id": "c590d7b1",
   "metadata": {},
   "source": [
    "# interchange first and last element in a list\n"
   ]
  },
  {
   "cell_type": "code",
   "execution_count": 4,
   "id": "112dc21b",
   "metadata": {},
   "outputs": [
    {
     "name": "stdout",
     "output_type": "stream",
     "text": [
      "[50, 20, 30, 40, 10]\n"
     ]
    }
   ],
   "source": [
    "#programe 2  \n",
    "    \n",
    "a=[10,20,30,40,50]\n",
    "first_ele=a.index(10)\n",
    "last_ele=a.index(50)\n",
    "a[first_ele],a[last_ele]=a[last_ele],a[first_ele]\n",
    "print(a)"
   ]
  },
  {
   "cell_type": "markdown",
   "id": "f443bd4c",
   "metadata": {},
   "source": [
    "# by using swap"
   ]
  },
  {
   "cell_type": "code",
   "execution_count": 10,
   "id": "744619e3",
   "metadata": {},
   "outputs": [
    {
     "ename": "SyntaxError",
     "evalue": "cannot assign to function call (1902687295.py, line 3)",
     "output_type": "error",
     "traceback": [
      "\u001b[1;36m  Input \u001b[1;32mIn [10]\u001b[1;36m\u001b[0m\n\u001b[1;33m    a.index(50)=a.index(10)\u001b[0m\n\u001b[1;37m    ^\u001b[0m\n\u001b[1;31mSyntaxError\u001b[0m\u001b[1;31m:\u001b[0m cannot assign to function call\n"
     ]
    }
   ],
   "source": [
    "a=[10,20,30,40,50]\n",
    "temp=a.index(50)\n",
    "a.index(50)=a.index(10)\n",
    "a.index(10)=temp\n",
    "print(\"after swaping:\", a)"
   ]
  },
  {
   "cell_type": "code",
   "execution_count": null,
   "id": "267ceff2",
   "metadata": {},
   "outputs": [],
   "source": []
  },
  {
   "cell_type": "code",
   "execution_count": null,
   "id": "65aed8f2",
   "metadata": {},
   "outputs": [],
   "source": []
  },
  {
   "cell_type": "markdown",
   "id": "9a3eab38",
   "metadata": {},
   "source": [
    "# multiply all numbers of a list\n"
   ]
  },
  {
   "cell_type": "code",
   "execution_count": 7,
   "id": "bc0c908e",
   "metadata": {},
   "outputs": [
    {
     "name": "stdout",
     "output_type": "stream",
     "text": [
      "120\n"
     ]
    }
   ],
   "source": [
    "#program 4\n",
    "\n",
    "my_list=[1,2,3,4,5]\n",
    "total=1\n",
    "for ele in range(len(my_list)):\n",
    "    total=total*my_list[ele]\n",
    "print(total)    "
   ]
  },
  {
   "cell_type": "code",
   "execution_count": 9,
   "id": "9f21b29a",
   "metadata": {},
   "outputs": [
    {
     "name": "stdout",
     "output_type": "stream",
     "text": [
      "enter x value70\n",
      "false\n"
     ]
    }
   ],
   "source": [
    "# program 5\n",
    "\n",
    "b={10,20,30,40,50}\n",
    "x=int(input(\"enter x value\"))\n",
    "if x in b:\n",
    "    print(\"true\")\n",
    "else:\n",
    "    print(\"false\")"
   ]
  },
  {
   "cell_type": "code",
   "execution_count": 29,
   "id": "9cb3b474",
   "metadata": {},
   "outputs": [
    {
     "name": "stdout",
     "output_type": "stream",
     "text": [
      "true\n"
     ]
    }
   ],
   "source": [
    "# program 6\n",
    "\n",
    "a={1,2,3,4,5}\n",
    "b={6,7,8,4,10}\n",
    "if a.intersection(b):\n",
    "    print(\"true\")\n",
    "else:\n",
    "    print(\"false\")"
   ]
  },
  {
   "cell_type": "code",
   "execution_count": 35,
   "id": "3ff53fd7",
   "metadata": {},
   "outputs": [
    {
     "data": {
      "text/plain": [
       "True"
      ]
     },
     "execution_count": 35,
     "metadata": {},
     "output_type": "execute_result"
    }
   ],
   "source": [
    "# program 7\n",
    "\n",
    "a={1,2,3,4,5,6,7,8,9}\n",
    "b={1,2,3,4,5}\n",
    "a.issuperset(b)\n",
    "a.issuperset(a)"
   ]
  },
  {
   "cell_type": "code",
   "execution_count": 36,
   "id": "4c5cd024",
   "metadata": {},
   "outputs": [
    {
     "data": {
      "text/plain": [
       "True"
      ]
     },
     "execution_count": 36,
     "metadata": {},
     "output_type": "execute_result"
    }
   ],
   "source": [
    "a.issuperset(a)"
   ]
  },
  {
   "cell_type": "code",
   "execution_count": 6,
   "id": "bd5e5836",
   "metadata": {},
   "outputs": [
    {
     "name": "stdout",
     "output_type": "stream",
     "text": [
      "enter x value5\n",
      "false\n"
     ]
    }
   ],
   "source": [
    "#program 8\n",
    "\n",
    "a={1,2,3,4,5,6,7,8,9,10}\n",
    "b={1,2,3,14,15,20}\n",
    "x=int(input(\"enter x value\"))\n",
    "if x in a != x in b:\n",
    "    print(\"true\")\n",
    "else:\n",
    "    print(\"false\")"
   ]
  },
  {
   "cell_type": "code",
   "execution_count": 27,
   "id": "aa8b24df",
   "metadata": {},
   "outputs": [
    {
     "name": "stdout",
     "output_type": "stream",
     "text": [
      "{4, 5, 6, 7, 8, 9, 10}\n"
     ]
    }
   ],
   "source": [
    "# program 9\n",
    "\n",
    "a={1,2,3,4,5,6,7,8,9,10}\n",
    "b={1,2,3,14,15,20}\n",
    "a.difference_update(b)\n",
    "print(a)"
   ]
  },
  {
   "cell_type": "markdown",
   "id": "0d3217fc",
   "metadata": {},
   "source": [
    "# dictionaries"
   ]
  },
  {
   "cell_type": "code",
   "execution_count": 18,
   "id": "82656b7c",
   "metadata": {},
   "outputs": [
    {
     "name": "stdout",
     "output_type": "stream",
     "text": [
      "original lists: ['a', 'b', 'c', 'd', 'e', 'f'] [1, 2, 3, 4, 5, 6]\n",
      "dictionary:  {'a': 1, 'b': 2, 'c': 3, 'd': 4, 'e': 5, 'f': 6}\n"
     ]
    }
   ],
   "source": [
    "# program 10\n",
    "\n",
    "dic1=['a','b','c','d','e','f']\n",
    "dic2=[1,2,3,4,5,6]\n",
    "print(\"original lists:\",dic1,dic2 )\n",
    "result={dic1[i]:dic2[i] for i in range(len(dic1))}\n",
    "print(\"dictionary: \",result)"
   ]
  },
  {
   "cell_type": "code",
   "execution_count": 24,
   "id": "f2e6f5c7",
   "metadata": {},
   "outputs": [
    {
     "name": "stdout",
     "output_type": "stream",
     "text": [
      "{'sowdhi': 1, 'sowjanya': 2, 'sridevi': 3, 'lasya': 4}\n",
      "[('sowdhi', 1), ('sowjanya', 2), ('sridevi', 3), ('lasya', 4)]\n"
     ]
    }
   ],
   "source": [
    "# program 11\n",
    "\n",
    "dic={'sowdhi':1,'sowjanya':2,'sridevi':3,'lasya':4}\n",
    "print(dic)\n",
    "result=[(i,j) for i,j in dic.items()]\n",
    "print(result)"
   ]
  },
  {
   "cell_type": "code",
   "execution_count": 30,
   "id": "aaad254d",
   "metadata": {},
   "outputs": [
    {
     "data": {
      "text/plain": [
       "dict_keys(['sowdhamini', 'lasya', 'sowjanya'])"
      ]
     },
     "execution_count": 30,
     "metadata": {},
     "output_type": "execute_result"
    }
   ],
   "source": [
    "# program 12\n",
    "\n",
    "sowdhi={\"sowdhamini\":21,\"lasya\":20,\"sowjanya\":21}\n",
    "sowdhi.keys()"
   ]
  },
  {
   "cell_type": "code",
   "execution_count": 36,
   "id": "f9b98de8",
   "metadata": {},
   "outputs": [
    {
     "name": "stdout",
     "output_type": "stream",
     "text": [
      "{'sowdhi': 19, 'sowjanya': 20, 'sridevi': 21}\n"
     ]
    }
   ],
   "source": [
    "a=[\"sowdhi\",\"sowjanya\",\"sridevi\"]\n",
    "b=[19,20,21]\n",
    "result={a[i]:b[i] for i in range(len(a))}\n",
    "print(result)\n"
   ]
  },
  {
   "cell_type": "code",
   "execution_count": 37,
   "id": "de6e1853",
   "metadata": {},
   "outputs": [
    {
     "data": {
      "text/plain": [
       "dict_values([19, 20, 21])"
      ]
     },
     "execution_count": 37,
     "metadata": {},
     "output_type": "execute_result"
    }
   ],
   "source": [
    "result.values()"
   ]
  },
  {
   "cell_type": "code",
   "execution_count": 40,
   "id": "e28c2866",
   "metadata": {},
   "outputs": [
    {
     "name": "stdout",
     "output_type": "stream",
     "text": [
      "sridevi\n"
     ]
    }
   ],
   "source": [
    "a={'sowdhi': 19, 'sowjanya': 20, 'sridevi': 21}\n",
    "result=max(zip(a.values(),a.keys()))[1]\n",
    "print(result)\n"
   ]
  },
  {
   "cell_type": "code",
   "execution_count": null,
   "id": "e11fbb31",
   "metadata": {},
   "outputs": [],
   "source": []
  }
 ],
 "metadata": {
  "kernelspec": {
   "display_name": "Python 3 (ipykernel)",
   "language": "python",
   "name": "python3"
  },
  "language_info": {
   "codemirror_mode": {
    "name": "ipython",
    "version": 3
   },
   "file_extension": ".py",
   "mimetype": "text/x-python",
   "name": "python",
   "nbconvert_exporter": "python",
   "pygments_lexer": "ipython3",
   "version": "3.9.12"
  }
 },
 "nbformat": 4,
 "nbformat_minor": 5
}
