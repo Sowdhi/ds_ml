{
 "cells": [
  {
   "cell_type": "code",
   "execution_count": 87,
   "id": "5e18412c",
   "metadata": {},
   "outputs": [
    {
     "name": "stdout",
     "output_type": "stream",
     "text": [
      "[1, 2, 3, 4, 10, 5, 6]\n"
     ]
    }
   ],
   "source": [
    "lis=[1,2,3,4,5,6]\n",
    "lis.insert(4,10)\n",
    "print(lis)"
   ]
  },
  {
   "cell_type": "code",
   "execution_count": 86,
   "id": "4367dc44",
   "metadata": {},
   "outputs": [
    {
     "data": {
      "text/plain": [
       "<function set.update>"
      ]
     },
     "execution_count": 86,
     "metadata": {},
     "output_type": "execute_result"
    }
   ],
   "source": [
    "set_var={1,2,3,4}\n",
    "set_var.add\n",
    "set_var.clear\n",
    "set_var.copy\n",
    "set_var.difference\n",
    "set_var.difference_update\n",
    "set_var.discard\n",
    "set_var.intersection\n",
    "set_var.intersection_update\n",
    "set_var.isdisjoint\n",
    "set_var.issubset\n",
    "set_var.issuperset\n",
    "set_var.pop\n",
    "set_var.remove\n",
    "set_var.symmetric_difference\n",
    "set_var.symmetric_difference_update\n",
    "set_var.union\n",
    "set_var.update"
   ]
  },
  {
   "cell_type": "code",
   "execution_count": 10,
   "id": "8c821220",
   "metadata": {},
   "outputs": [
    {
     "data": {
      "text/plain": [
       "{10, 20, 30, 87.4, 'a', 'mscs'}"
      ]
     },
     "execution_count": 10,
     "metadata": {},
     "output_type": "execute_result"
    }
   ],
   "source": [
    "Sowdhi={10,20,30,\"a\",\"mscs\",87.4}\n",
    "Sowdhi"
   ]
  },
  {
   "cell_type": "code",
   "execution_count": 11,
   "id": "d2a0a4a8",
   "metadata": {},
   "outputs": [
    {
     "data": {
      "text/plain": [
       "{10, 20, 30, 40, 87.4, 'a', 'mscs'}"
      ]
     },
     "execution_count": 11,
     "metadata": {},
     "output_type": "execute_result"
    }
   ],
   "source": [
    "Sowdhi.add(40)\n",
    "Sowdhi"
   ]
  },
  {
   "cell_type": "code",
   "execution_count": 13,
   "id": "e9108636",
   "metadata": {},
   "outputs": [
    {
     "data": {
      "text/plain": [
       "set()"
      ]
     },
     "execution_count": 13,
     "metadata": {},
     "output_type": "execute_result"
    }
   ],
   "source": [
    "Sowdhi.clear()\n",
    "Sowdhi"
   ]
  },
  {
   "cell_type": "code",
   "execution_count": 97,
   "id": "fc48849d",
   "metadata": {},
   "outputs": [],
   "source": [
    "a={1,2,3}"
   ]
  },
  {
   "cell_type": "code",
   "execution_count": 98,
   "id": "db13c958",
   "metadata": {},
   "outputs": [
    {
     "name": "stdout",
     "output_type": "stream",
     "text": [
      "{1, 2, 3}\n"
     ]
    }
   ],
   "source": [
    "Sowdhi=a.copy()\n",
    "print(Sowdhi)"
   ]
  },
  {
   "cell_type": "code",
   "execution_count": 91,
   "id": "4d97f2e3",
   "metadata": {},
   "outputs": [
    {
     "data": {
      "text/plain": [
       "{1, 2, 3}"
      ]
     },
     "execution_count": 91,
     "metadata": {},
     "output_type": "execute_result"
    }
   ],
   "source": []
  },
  {
   "cell_type": "code",
   "execution_count": 99,
   "id": "a64eae10",
   "metadata": {},
   "outputs": [
    {
     "data": {
      "text/plain": [
       "{50, 60}"
      ]
     },
     "execution_count": 99,
     "metadata": {},
     "output_type": "execute_result"
    }
   ],
   "source": [
    "a={10,20,30,40}\n",
    "b={30,40,50,60}\n",
    "b.difference(a)"
   ]
  },
  {
   "cell_type": "code",
   "execution_count": 19,
   "id": "bf0319d3",
   "metadata": {},
   "outputs": [
    {
     "name": "stdout",
     "output_type": "stream",
     "text": [
      "a: {40, 10, 20, 30}\n"
     ]
    }
   ],
   "source": [
    "a.difference_update(b)\n",
    "print(\"a:\",a)"
   ]
  },
  {
   "cell_type": "code",
   "execution_count": 20,
   "id": "bb91c3a0",
   "metadata": {},
   "outputs": [
    {
     "name": "stdout",
     "output_type": "stream",
     "text": [
      "b: {50, 60}\n"
     ]
    }
   ],
   "source": [
    "b.difference_update(a)\n",
    "print(\"b:\",b)"
   ]
  },
  {
   "cell_type": "code",
   "execution_count": 100,
   "id": "ae866d29",
   "metadata": {},
   "outputs": [
    {
     "data": {
      "text/plain": [
       "{10, 20, 30}"
      ]
     },
     "execution_count": 100,
     "metadata": {},
     "output_type": "execute_result"
    }
   ],
   "source": [
    "a.discard(40)\n",
    "a"
   ]
  },
  {
   "cell_type": "code",
   "execution_count": 105,
   "id": "30fba92e",
   "metadata": {},
   "outputs": [
    {
     "name": "stdout",
     "output_type": "stream",
     "text": [
      "{4, 5}\n"
     ]
    }
   ],
   "source": [
    "a={1,2,3,4,5}\n",
    "b={4,5,6,7,8}\n",
    "print(a.intersection(b))\n"
   ]
  },
  {
   "cell_type": "code",
   "execution_count": 106,
   "id": "02c411eb",
   "metadata": {},
   "outputs": [
    {
     "name": "stdout",
     "output_type": "stream",
     "text": [
      "False\n"
     ]
    }
   ],
   "source": [
    "print(a.isdisjoint(b))"
   ]
  },
  {
   "cell_type": "code",
   "execution_count": 114,
   "id": "637ac18c",
   "metadata": {},
   "outputs": [
    {
     "name": "stdout",
     "output_type": "stream",
     "text": [
      "False\n"
     ]
    }
   ],
   "source": [
    "a={4,5,6,7,8,9}\n",
    "b={4,5,6,7,8}\n",
    "print(a.isdisjoint(b))"
   ]
  },
  {
   "cell_type": "code",
   "execution_count": 125,
   "id": "66011fe7",
   "metadata": {},
   "outputs": [
    {
     "name": "stdout",
     "output_type": "stream",
     "text": [
      "False\n"
     ]
    }
   ],
   "source": [
    "a={1,2,9}\n",
    "b={1,2,3,4,5}\n",
    "print(a.issubset(b))"
   ]
  },
  {
   "cell_type": "code",
   "execution_count": 115,
   "id": "7eb14c7c",
   "metadata": {},
   "outputs": [
    {
     "name": "stdout",
     "output_type": "stream",
     "text": [
      "True\n"
     ]
    }
   ],
   "source": [
    "print(a.issuperset(b))"
   ]
  },
  {
   "cell_type": "code",
   "execution_count": 141,
   "id": "603be0a0",
   "metadata": {},
   "outputs": [
    {
     "data": {
      "text/plain": [
       "{3, 4, 5, 6, 7, 8, 9}"
      ]
     },
     "execution_count": 141,
     "metadata": {},
     "output_type": "execute_result"
    }
   ],
   "source": [
    "a={3,3,4,5,6,7,8,9,3,4,6}\n",
    "a"
   ]
  },
  {
   "cell_type": "code",
   "execution_count": 143,
   "id": "da78ba6b",
   "metadata": {},
   "outputs": [
    {
     "data": {
      "text/plain": [
       "4"
      ]
     },
     "execution_count": 143,
     "metadata": {},
     "output_type": "execute_result"
    }
   ],
   "source": [
    "a.pop()"
   ]
  },
  {
   "cell_type": "code",
   "execution_count": null,
   "id": "e190e142",
   "metadata": {},
   "outputs": [],
   "source": []
  },
  {
   "cell_type": "code",
   "execution_count": 135,
   "id": "2067ac17",
   "metadata": {},
   "outputs": [
    {
     "name": "stdout",
     "output_type": "stream",
     "text": [
      "{3, 12, 4}\n"
     ]
    }
   ],
   "source": [
    "print(a)"
   ]
  },
  {
   "cell_type": "code",
   "execution_count": 144,
   "id": "f5e8e804",
   "metadata": {},
   "outputs": [
    {
     "name": "stdout",
     "output_type": "stream",
     "text": [
      "{1, 2, 3, 4, 5, 6, 7, 8}\n"
     ]
    }
   ],
   "source": [
    "a={1,2,3,4,5,6,7,8,9}\n",
    "a.remove(9)\n",
    "print(a)"
   ]
  },
  {
   "cell_type": "code",
   "execution_count": 52,
   "id": "fba73623",
   "metadata": {},
   "outputs": [
    {
     "ename": "TypeError",
     "evalue": "'int' object is not iterable",
     "output_type": "error",
     "traceback": [
      "\u001b[1;31m---------------------------------------------------------------------------\u001b[0m",
      "\u001b[1;31mTypeError\u001b[0m                                 Traceback (most recent call last)",
      "Input \u001b[1;32mIn [52]\u001b[0m, in \u001b[0;36m<cell line: 1>\u001b[1;34m()\u001b[0m\n\u001b[1;32m----> 1\u001b[0m \u001b[43ma\u001b[49m\u001b[38;5;241;43m.\u001b[39;49m\u001b[43msymmetric_difference\u001b[49m\u001b[43m(\u001b[49m\u001b[38;5;241;43m4\u001b[39;49m\u001b[43m)\u001b[49m\n\u001b[0;32m      2\u001b[0m \u001b[38;5;28mprint\u001b[39m(a)\n",
      "\u001b[1;31mTypeError\u001b[0m: 'int' object is not iterable"
     ]
    }
   ],
   "source": [
    "a.symmetric_difference(4)\n",
    "print(a)"
   ]
  },
  {
   "cell_type": "code",
   "execution_count": 55,
   "id": "76439ca8",
   "metadata": {},
   "outputs": [
    {
     "name": "stdout",
     "output_type": "stream",
     "text": [
      "{2, 3, 4, 5, 6, 7, 8}\n"
     ]
    }
   ],
   "source": [
    "a={3,4,5,7,8,4,3,6,8}\n",
    "b={2,4,5,6,7,4,3}\n",
    "print(a.union(b))"
   ]
  },
  {
   "cell_type": "code",
   "execution_count": 65,
   "id": "6ab72c86",
   "metadata": {},
   "outputs": [
    {
     "name": "stdout",
     "output_type": "stream",
     "text": [
      "{1, 2, 3, 20, 10, 30}\n"
     ]
    }
   ],
   "source": [
    "a={1,2,3,3}\n",
    "c={10,20,30}\n",
    "a.update(c)\n",
    "print(a)"
   ]
  },
  {
   "cell_type": "code",
   "execution_count": null,
   "id": "6e24b740",
   "metadata": {},
   "outputs": [],
   "source": [
    "dict={\"b\":2\"a\":1}\n",
    "dict.clear\n",
    "dict.copy\n",
    "dict.fromkeys\n",
    "dict.get\n",
    "dict.items\n",
    "dict.keys\n",
    "dict.pop\n",
    "dict.popitem\n",
    "dict.setdefault\n",
    "dict.update\n",
    "dict.values"
   ]
  },
  {
   "cell_type": "code",
   "execution_count": 69,
   "id": "badfe061",
   "metadata": {},
   "outputs": [
    {
     "name": "stdout",
     "output_type": "stream",
     "text": [
      "<class 'dict'>\n"
     ]
    }
   ],
   "source": [
    "dict.clear\n",
    "print(dict)"
   ]
  },
  {
   "cell_type": "code",
   "execution_count": 70,
   "id": "47bd06f4",
   "metadata": {},
   "outputs": [
    {
     "name": "stdout",
     "output_type": "stream",
     "text": [
      "{'a': 1, 'b': 2, 'c': 3}\n"
     ]
    }
   ],
   "source": [
    "dic={\"a\":1,\"b\":2,\"c\":3}\n",
    "c=dic.copy()\n",
    "print(c)"
   ]
  },
  {
   "cell_type": "code",
   "execution_count": 171,
   "id": "74934531",
   "metadata": {},
   "outputs": [
    {
     "name": "stdout",
     "output_type": "stream",
     "text": [
      "{'abc': {1, 2, 3}, 'c': {1, 2, 3}, 'b': {1, 2, 3}}\n"
     ]
    }
   ],
   "source": [
    "a={\"abc\",\"b\",\"c\"}\n",
    "value={1,2,3}\n",
    "numbers=dict.fromkeys(a,value)\n",
    "print(numbers)"
   ]
  },
  {
   "cell_type": "code",
   "execution_count": 147,
   "id": "123cbf60",
   "metadata": {},
   "outputs": [
    {
     "name": "stdout",
     "output_type": "stream",
     "text": [
      "20\n"
     ]
    }
   ],
   "source": [
    "marks={\"maths\":10,\"phy\":20}\n",
    "print(marks.get(\"phy\"))"
   ]
  },
  {
   "cell_type": "code",
   "execution_count": 170,
   "id": "187e467f",
   "metadata": {},
   "outputs": [
    {
     "name": "stdout",
     "output_type": "stream",
     "text": [
      "30\n"
     ]
    }
   ],
   "source": [
    "print(marks.pop(\"phy\"))"
   ]
  },
  {
   "cell_type": "code",
   "execution_count": 151,
   "id": "1038aa97",
   "metadata": {},
   "outputs": [
    {
     "name": "stdout",
     "output_type": "stream",
     "text": [
      "{'phy': 20}\n"
     ]
    }
   ],
   "source": [
    "print(marks)"
   ]
  },
  {
   "cell_type": "code",
   "execution_count": 152,
   "id": "623475e7",
   "metadata": {},
   "outputs": [],
   "source": [
    "marks={\"maths\":10,\"phy\":20,\"stat\":30}"
   ]
  },
  {
   "cell_type": "code",
   "execution_count": 157,
   "id": "7d15fee4",
   "metadata": {},
   "outputs": [
    {
     "name": "stdout",
     "output_type": "stream",
     "text": [
      "('stat', 30)\n"
     ]
    }
   ],
   "source": [
    "print(marks.popitem())"
   ]
  },
  {
   "cell_type": "code",
   "execution_count": 158,
   "id": "0a211572",
   "metadata": {},
   "outputs": [
    {
     "name": "stdout",
     "output_type": "stream",
     "text": [
      "('phy', 20)\n"
     ]
    }
   ],
   "source": [
    "print(marks.popitem())"
   ]
  },
  {
   "cell_type": "code",
   "execution_count": 159,
   "id": "1e97efd7",
   "metadata": {},
   "outputs": [
    {
     "data": {
      "text/plain": [
       "{'maths': 10}"
      ]
     },
     "execution_count": 159,
     "metadata": {},
     "output_type": "execute_result"
    }
   ],
   "source": [
    "marks"
   ]
  },
  {
   "cell_type": "code",
   "execution_count": 162,
   "id": "03787019",
   "metadata": {},
   "outputs": [
    {
     "name": "stdout",
     "output_type": "stream",
     "text": [
      "10\n"
     ]
    }
   ],
   "source": [
    "marks={\"maths\":10,\"stat\":20,\"phy\":30}\n",
    "a=marks.setdefault(\"maths\")\n",
    "print(a)"
   ]
  },
  {
   "cell_type": "code",
   "execution_count": 163,
   "id": "e2dc2350",
   "metadata": {},
   "outputs": [
    {
     "name": "stdout",
     "output_type": "stream",
     "text": [
      "{'maths': 10, 'stat': 20, 'phy': 30}\n",
      "10\n"
     ]
    }
   ],
   "source": [
    "print(marks)\n",
    "print(a)"
   ]
  },
  {
   "cell_type": "code",
   "execution_count": 165,
   "id": "2e1f8956",
   "metadata": {},
   "outputs": [
    {
     "name": "stdout",
     "output_type": "stream",
     "text": [
      "{'maths': 10, 'stat': 20, 'phy': 30, 'sridevi': 'a', 'vyshnavi': 'b'}\n"
     ]
    }
   ],
   "source": [
    "grades={\"sridevi\":\"a\",\"vyshnavi\":\"b\"}\n",
    "marks.update(grades)\n",
    "print(marks)"
   ]
  },
  {
   "cell_type": "code",
   "execution_count": 168,
   "id": "9cb40f31",
   "metadata": {},
   "outputs": [
    {
     "name": "stdout",
     "output_type": "stream",
     "text": [
      "dict_values([10, 20, 30, 'a', 'b'])\n"
     ]
    }
   ],
   "source": [
    "print(marks.values())"
   ]
  },
  {
   "cell_type": "code",
   "execution_count": 180,
   "id": "6bd684f2",
   "metadata": {},
   "outputs": [
    {
     "data": {
      "text/plain": [
       "6"
      ]
     },
     "execution_count": 180,
     "metadata": {},
     "output_type": "execute_result"
    }
   ],
   "source": [
    "a=[1,2,2,2,2,2,2,3,\"sowdhi\"]\n",
    "a.count(2)"
   ]
  },
  {
   "cell_type": "code",
   "execution_count": 177,
   "id": "430bb83f",
   "metadata": {},
   "outputs": [
    {
     "data": {
      "text/plain": [
       "7"
      ]
     },
     "execution_count": 177,
     "metadata": {},
     "output_type": "execute_result"
    }
   ],
   "source": [
    "a.index(3)"
   ]
  },
  {
   "cell_type": "code",
   "execution_count": 181,
   "id": "ff82ceec",
   "metadata": {},
   "outputs": [
    {
     "data": {
      "text/plain": [
       "list"
      ]
     },
     "execution_count": 181,
     "metadata": {},
     "output_type": "execute_result"
    }
   ],
   "source": [
    "type(a)"
   ]
  },
  {
   "cell_type": "code",
   "execution_count": null,
   "id": "61d308e6",
   "metadata": {},
   "outputs": [],
   "source": []
  }
 ],
 "metadata": {
  "kernelspec": {
   "display_name": "Python 3 (ipykernel)",
   "language": "python",
   "name": "python3"
  },
  "language_info": {
   "codemirror_mode": {
    "name": "ipython",
    "version": 3
   },
   "file_extension": ".py",
   "mimetype": "text/x-python",
   "name": "python",
   "nbconvert_exporter": "python",
   "pygments_lexer": "ipython3",
   "version": "3.9.12"
  }
 },
 "nbformat": 4,
 "nbformat_minor": 5
}
