{
 "cells": [
  {
   "cell_type": "code",
   "execution_count": 19,
   "id": "90113ccb",
   "metadata": {},
   "outputs": [],
   "source": [
    "def sowdhi(a,b):\n",
    "    sub=a-b\n",
    "    add=a+b\n",
    "    return(sub)\n",
    "    return(add)"
   ]
  },
  {
   "cell_type": "code",
   "execution_count": 20,
   "id": "a8f19c58",
   "metadata": {},
   "outputs": [
    {
     "name": "stdout",
     "output_type": "stream",
     "text": [
      "enter the a value23\n",
      "enter the b value34\n"
     ]
    },
    {
     "data": {
      "text/plain": [
       "-11"
      ]
     },
     "execution_count": 20,
     "metadata": {},
     "output_type": "execute_result"
    }
   ],
   "source": [
    "a=int(input(\"enter the a value\"))\n",
    "b=int(input(\"enter the b value\"))\n",
    "sowdhi(a,b)"
   ]
  },
  {
   "cell_type": "code",
   "execution_count": 31,
   "id": "4fdd455a",
   "metadata": {},
   "outputs": [],
   "source": [
    "def sowdhi(height,age=21):\n",
    "    person=height-age\n",
    "    person2=height+age\n",
    "    print(person,person2)"
   ]
  },
  {
   "cell_type": "code",
   "execution_count": 23,
   "id": "2c3c4bb0",
   "metadata": {},
   "outputs": [
    {
     "name": "stdout",
     "output_type": "stream",
     "text": [
      "-15.8 26.2\n"
     ]
    }
   ],
   "source": [
    "sowdhi(age=21,height=5.2)"
   ]
  },
  {
   "cell_type": "code",
   "execution_count": 29,
   "id": "f931c04f",
   "metadata": {},
   "outputs": [
    {
     "name": "stdout",
     "output_type": "stream",
     "text": [
      "-9.7 20.3\n"
     ]
    }
   ],
   "source": [
    "sowdhi(age=15)"
   ]
  },
  {
   "cell_type": "code",
   "execution_count": 34,
   "id": "c14a403d",
   "metadata": {},
   "outputs": [
    {
     "ename": "NameError",
     "evalue": "name 'age' is not defined",
     "output_type": "error",
     "traceback": [
      "\u001b[1;31m---------------------------------------------------------------------------\u001b[0m",
      "\u001b[1;31mNameError\u001b[0m                                 Traceback (most recent call last)",
      "Input \u001b[1;32mIn [34]\u001b[0m, in \u001b[0;36m<cell line: 1>\u001b[1;34m()\u001b[0m\n\u001b[1;32m----> 1\u001b[0m sowdhi(\u001b[38;5;241m*\u001b[39m\u001b[43mage\u001b[49m)\n",
      "\u001b[1;31mNameError\u001b[0m: name 'age' is not defined"
     ]
    }
   ],
   "source": [
    "sowdhi(*age)"
   ]
  },
  {
   "cell_type": "code",
   "execution_count": 39,
   "id": "01f63c6a",
   "metadata": {},
   "outputs": [],
   "source": [
    "def sri(*marks):\n",
    "    "
   ]
  },
  {
   "cell_type": "code",
   "execution_count": 40,
   "id": "175b5e0c",
   "metadata": {},
   "outputs": [
    {
     "ename": "NameError",
     "evalue": "name 'marks_her_degree' is not defined",
     "output_type": "error",
     "traceback": [
      "\u001b[1;31m---------------------------------------------------------------------------\u001b[0m",
      "\u001b[1;31mNameError\u001b[0m                                 Traceback (most recent call last)",
      "Input \u001b[1;32mIn [40]\u001b[0m, in \u001b[0;36m<cell line: 1>\u001b[1;34m()\u001b[0m\n\u001b[1;32m----> 1\u001b[0m \u001b[43msri\u001b[49m\u001b[43m(\u001b[49m\u001b[38;5;241;43m10\u001b[39;49m\u001b[43m,\u001b[49m\u001b[38;5;241;43m20\u001b[39;49m\u001b[43m,\u001b[49m\u001b[38;5;241;43m30\u001b[39;49m\u001b[43m)\u001b[49m\n",
      "Input \u001b[1;32mIn [39]\u001b[0m, in \u001b[0;36msri\u001b[1;34m(*marks)\u001b[0m\n\u001b[0;32m      1\u001b[0m \u001b[38;5;28;01mdef\u001b[39;00m \u001b[38;5;21msri\u001b[39m(\u001b[38;5;241m*\u001b[39mmarks):\n\u001b[1;32m----> 2\u001b[0m     \u001b[43mmarks_her_degree\u001b[49m\n",
      "\u001b[1;31mNameError\u001b[0m: name 'marks_her_degree' is not defined"
     ]
    }
   ],
   "source": [
    "sri(10,20,30)"
   ]
  },
  {
   "cell_type": "code",
   "execution_count": null,
   "id": "a2d1c10b",
   "metadata": {},
   "outputs": [],
   "source": []
  }
 ],
 "metadata": {
  "kernelspec": {
   "display_name": "Python 3 (ipykernel)",
   "language": "python",
   "name": "python3"
  },
  "language_info": {
   "codemirror_mode": {
    "name": "ipython",
    "version": 3
   },
   "file_extension": ".py",
   "mimetype": "text/x-python",
   "name": "python",
   "nbconvert_exporter": "python",
   "pygments_lexer": "ipython3",
   "version": "3.9.12"
  }
 },
 "nbformat": 4,
 "nbformat_minor": 5
}
